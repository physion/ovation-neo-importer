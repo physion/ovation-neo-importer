{
 "metadata": {
  "name": "neo_sandbox"
 },
 "nbformat": 3,
 "nbformat_minor": 0,
 "worksheets": [
  {
   "cells": [
    {
     "cell_type": "code",
     "collapsed": false,
     "input": [
      "import neo\n",
      "import neo.io as nio"
     ],
     "language": "python",
     "metadata": {},
     "outputs": [],
     "prompt_number": 2
    },
    {
     "cell_type": "code",
     "collapsed": false,
     "input": [
      "reader = nio.PlexonIO('/Users/barry/Desktop/jlyTest040212tmpDots1103.plx')\n",
      "block = reader.read()"
     ],
     "language": "python",
     "metadata": {},
     "outputs": [],
     "prompt_number": 3
    },
    {
     "cell_type": "code",
     "collapsed": false,
     "input": [
      "block.segments"
     ],
     "language": "python",
     "metadata": {},
     "outputs": [
      {
       "output_type": "pyout",
       "prompt_number": 9,
       "text": [
        "[Segment with 128 analogs, 28 event arrays, 12 spike trains\n",
        " annotations: {'plexon_version': 106}\n",
        " # Analog signals (N=128)\n",
        " 0: <AnalogSignal(array([], dtype=float64) * V, [0.0 s, 0.0 s], sampling rate: 1000.0 Hz)>\n",
        " 1: <AnalogSignal(array([], dtype=float64) * V, [0.0 s, 0.0 s], sampling rate: 1000.0 Hz)>\n",
        " 2: <AnalogSignal(array([], dtype=float64) * V, [0.0 s, 0.0 s], sampling rate: 1000.0 Hz)>\n",
        " 3: <AnalogSignal(array([], dtype=float64) * V, [0.0 s, 0.0 s], sampling rate: 1000.0 Hz)>\n",
        " 4: <AnalogSignal(array([], dtype=float64) * V, [0.0 s, 0.0 s], sampling rate: 1000.0 Hz)>\n",
        " 5: <AnalogSignal(array([], dtype=float64) * V, [0.0 s, 0.0 s], sampling rate: 1000.0 Hz)>\n",
        " 6: <AnalogSignal(array([], dtype=float64) * V, [0.0 s, 0.0 s], sampling rate: 1000.0 Hz)>\n",
        " 7: <AnalogSignal(array([], dtype=float64) * V, [0.0 s, 0.0 s], sampling rate: 1000.0 Hz)>\n",
        " 8: <AnalogSignal(array([], dtype=float64) * V, [0.0 s, 0.0 s], sampling rate: 1000.0 Hz)>\n",
        " 9: <AnalogSignal(array([], dtype=float64) * V, [0.0 s, 0.0 s], sampling rate: 1000.0 Hz)>\n",
        " 10: <AnalogSignal(array([], dtype=float64) * V, [0.0 s, 0.0 s], sampling rate: 1000.0 Hz)>\n",
        " 11: <AnalogSignal(array([], dtype=float64) * V, [0.0 s, 0.0 s], sampling rate: 1000.0 Hz)>\n",
        " 12: <AnalogSignal(array([], dtype=float64) * V, [0.0 s, 0.0 s], sampling rate: 1000.0 Hz)>\n",
        " 13: <AnalogSignal(array([], dtype=float64) * V, [0.0 s, 0.0 s], sampling rate: 1000.0 Hz)>\n",
        " 14: <AnalogSignal(array([], dtype=float64) * V, [0.0 s, 0.0 s], sampling rate: 1000.0 Hz)>\n",
        " 15: <AnalogSignal(array([], dtype=float64) * V, [0.0 s, 0.0 s], sampling rate: 1000.0 Hz)>\n",
        " 16: <AnalogSignal(array([], dtype=float64) * V, [0.0 s, 0.0 s], sampling rate: 1000.0 Hz)>\n",
        " 17: <AnalogSignal(array([], dtype=float64) * V, [0.0 s, 0.0 s], sampling rate: 1000.0 Hz)>\n",
        " 18: <AnalogSignal(array([], dtype=float64) * V, [0.0 s, 0.0 s], sampling rate: 1000.0 Hz)>\n",
        " 19: <AnalogSignal(array([], dtype=float64) * V, [0.0 s, 0.0 s], sampling rate: 1000.0 Hz)>\n",
        " 20: <AnalogSignal(array([], dtype=float64) * V, [0.0 s, 0.0 s], sampling rate: 1000.0 Hz)>\n",
        " 21: <AnalogSignal(array([], dtype=float64) * V, [0.0 s, 0.0 s], sampling rate: 1000.0 Hz)>\n",
        " 22: <AnalogSignal(array([], dtype=float64) * V, [0.0 s, 0.0 s], sampling rate: 1000.0 Hz)>\n",
        " 23: <AnalogSignal(array([], dtype=float64) * V, [0.0 s, 0.0 s], sampling rate: 1000.0 Hz)>\n",
        " 24: <AnalogSignal(array([], dtype=float64) * V, [0.0 s, 0.0 s], sampling rate: 1000.0 Hz)>\n",
        " 25: <AnalogSignal(array([], dtype=float64) * V, [0.0 s, 0.0 s], sampling rate: 1000.0 Hz)>\n",
        " 26: <AnalogSignal(array([], dtype=float64) * V, [0.0 s, 0.0 s], sampling rate: 1000.0 Hz)>\n",
        " 27: <AnalogSignal(array([], dtype=float64) * V, [0.0 s, 0.0 s], sampling rate: 1000.0 Hz)>\n",
        " 28: <AnalogSignal(array([], dtype=float64) * V, [0.0 s, 0.0 s], sampling rate: 1000.0 Hz)>\n",
        " 29: <AnalogSignal(array([], dtype=float64) * V, [0.0 s, 0.0 s], sampling rate: 1000.0 Hz)>\n",
        " 30: <AnalogSignal(array([], dtype=float64) * V, [0.0 s, 0.0 s], sampling rate: 1000.0 Hz)>\n",
        " 31: <AnalogSignal(array([], dtype=float64) * V, [0.0 s, 0.0 s], sampling rate: 1000.0 Hz)>\n",
        " 32: <AnalogSignal(array([], dtype=float64) * V, [0.0 s, 0.0 s], sampling rate: 1000.0 Hz)>\n",
        " 33: <AnalogSignal(array([], dtype=float64) * V, [0.0 s, 0.0 s], sampling rate: 1000.0 Hz)>\n",
        " 34: <AnalogSignal(array([], dtype=float64) * V, [0.0 s, 0.0 s], sampling rate: 1000.0 Hz)>\n",
        " 35: <AnalogSignal(array([], dtype=float64) * V, [0.0 s, 0.0 s], sampling rate: 1000.0 Hz)>\n",
        " 36: <AnalogSignal(array([], dtype=float64) * V, [0.0 s, 0.0 s], sampling rate: 1000.0 Hz)>\n",
        " 37: <AnalogSignal(array([], dtype=float64) * V, [0.0 s, 0.0 s], sampling rate: 1000.0 Hz)>\n",
        " 38: <AnalogSignal(array([], dtype=float64) * V, [0.0 s, 0.0 s], sampling rate: 1000.0 Hz)>\n",
        " 39: <AnalogSignal(array([], dtype=float64) * V, [0.0 s, 0.0 s], sampling rate: 1000.0 Hz)>\n",
        " 40: <AnalogSignal(array([], dtype=float64) * V, [0.0 s, 0.0 s], sampling rate: 1000.0 Hz)>\n",
        " 41: <AnalogSignal(array([], dtype=float64) * V, [0.0 s, 0.0 s], sampling rate: 1000.0 Hz)>\n",
        " 42: <AnalogSignal(array([], dtype=float64) * V, [0.0 s, 0.0 s], sampling rate: 1000.0 Hz)>\n",
        " 43: <AnalogSignal(array([], dtype=float64) * V, [0.0 s, 0.0 s], sampling rate: 1000.0 Hz)>\n",
        " 44: <AnalogSignal(array([], dtype=float64) * V, [0.0 s, 0.0 s], sampling rate: 1000.0 Hz)>\n",
        " 45: <AnalogSignal(array([], dtype=float64) * V, [0.0 s, 0.0 s], sampling rate: 1000.0 Hz)>\n",
        " 46: <AnalogSignal(array([], dtype=float64) * V, [0.0 s, 0.0 s], sampling rate: 1000.0 Hz)>\n",
        " 47: <AnalogSignal(array([], dtype=float64) * V, [0.0 s, 0.0 s], sampling rate: 1000.0 Hz)>\n",
        " 48: <AnalogSignal(array([], dtype=float64) * V, [0.0 s, 0.0 s], sampling rate: 1000.0 Hz)>\n",
        " 49: <AnalogSignal(array([], dtype=float64) * V, [0.0 s, 0.0 s], sampling rate: 1000.0 Hz)>\n",
        " 50: <AnalogSignal(array([], dtype=float64) * V, [0.0 s, 0.0 s], sampling rate: 1000.0 Hz)>\n",
        " 51: <AnalogSignal(array([], dtype=float64) * V, [0.0 s, 0.0 s], sampling rate: 1000.0 Hz)>\n",
        " 52: <AnalogSignal(array([], dtype=float64) * V, [0.0 s, 0.0 s], sampling rate: 1000.0 Hz)>\n",
        " 53: <AnalogSignal(array([], dtype=float64) * V, [0.0 s, 0.0 s], sampling rate: 1000.0 Hz)>\n",
        " 54: <AnalogSignal(array([], dtype=float64) * V, [0.0 s, 0.0 s], sampling rate: 1000.0 Hz)>\n",
        " 55: <AnalogSignal(array([], dtype=float64) * V, [0.0 s, 0.0 s], sampling rate: 1000.0 Hz)>\n",
        " 56: <AnalogSignal(array([], dtype=float64) * V, [0.0 s, 0.0 s], sampling rate: 1000.0 Hz)>\n",
        " 57: <AnalogSignal(array([], dtype=float64) * V, [0.0 s, 0.0 s], sampling rate: 1000.0 Hz)>\n",
        " 58: <AnalogSignal(array([], dtype=float64) * V, [0.0 s, 0.0 s], sampling rate: 1000.0 Hz)>\n",
        " 59: <AnalogSignal(array([], dtype=float64) * V, [0.0 s, 0.0 s], sampling rate: 1000.0 Hz)>\n",
        " 60: <AnalogSignal(array([], dtype=float64) * V, [0.0 s, 0.0 s], sampling rate: 1000.0 Hz)>\n",
        " 61: <AnalogSignal(array([], dtype=float64) * V, [0.0 s, 0.0 s], sampling rate: 1000.0 Hz)>\n",
        " 62: <AnalogSignal(array([], dtype=float64) * V, [0.0 s, 0.0 s], sampling rate: 1000.0 Hz)>\n",
        " 63: <AnalogSignal(array([], dtype=float64) * V, [0.0 s, 0.0 s], sampling rate: 1000.0 Hz)>\n",
        " 64: <AnalogSignal(array([], dtype=float64) * V, [0.0 s, 0.0 s], sampling rate: 1000.0 Hz)>\n",
        " 65: <AnalogSignal(array([], dtype=float64) * V, [0.0 s, 0.0 s], sampling rate: 1000.0 Hz)>\n",
        " 66: <AnalogSignal(array([], dtype=float64) * V, [0.0 s, 0.0 s], sampling rate: 1000.0 Hz)>\n",
        " 67: <AnalogSignal(array([], dtype=float64) * V, [0.0 s, 0.0 s], sampling rate: 1000.0 Hz)>\n",
        " 68: <AnalogSignal(array([], dtype=float64) * V, [0.0 s, 0.0 s], sampling rate: 1000.0 Hz)>\n",
        " 69: <AnalogSignal(array([], dtype=float64) * V, [0.0 s, 0.0 s], sampling rate: 1000.0 Hz)>\n",
        " 70: <AnalogSignal(array([], dtype=float64) * V, [0.0 s, 0.0 s], sampling rate: 1000.0 Hz)>\n",
        " 71: <AnalogSignal(array([], dtype=float64) * V, [0.0 s, 0.0 s], sampling rate: 1000.0 Hz)>\n",
        " 72: <AnalogSignal(array([], dtype=float64) * V, [0.0 s, 0.0 s], sampling rate: 1000.0 Hz)>\n",
        " 73: <AnalogSignal(array([], dtype=float64) * V, [0.0 s, 0.0 s], sampling rate: 1000.0 Hz)>\n",
        " 74: <AnalogSignal(array([], dtype=float64) * V, [0.0 s, 0.0 s], sampling rate: 1000.0 Hz)>\n",
        " 75: <AnalogSignal(array([], dtype=float64) * V, [0.0 s, 0.0 s], sampling rate: 1000.0 Hz)>\n",
        " 76: <AnalogSignal(array([], dtype=float64) * V, [0.0 s, 0.0 s], sampling rate: 1000.0 Hz)>\n",
        " 77: <AnalogSignal(array([], dtype=float64) * V, [0.0 s, 0.0 s], sampling rate: 1000.0 Hz)>\n",
        " 78: <AnalogSignal(array([], dtype=float64) * V, [0.0 s, 0.0 s], sampling rate: 1000.0 Hz)>\n",
        " 79: <AnalogSignal(array([], dtype=float64) * V, [0.0 s, 0.0 s], sampling rate: 1000.0 Hz)>\n",
        " 80: <AnalogSignal(array([], dtype=float64) * V, [0.0 s, 0.0 s], sampling rate: 1000.0 Hz)>\n",
        " 81: <AnalogSignal(array([], dtype=float64) * V, [0.0 s, 0.0 s], sampling rate: 1000.0 Hz)>\n",
        " 82: <AnalogSignal(array([], dtype=float64) * V, [0.0 s, 0.0 s], sampling rate: 1000.0 Hz)>\n",
        " 83: <AnalogSignal(array([], dtype=float64) * V, [0.0 s, 0.0 s], sampling rate: 1000.0 Hz)>\n",
        " 84: <AnalogSignal(array([], dtype=float64) * V, [0.0 s, 0.0 s], sampling rate: 1000.0 Hz)>\n",
        " 85: <AnalogSignal(array([], dtype=float64) * V, [0.0 s, 0.0 s], sampling rate: 1000.0 Hz)>\n",
        " 86: <AnalogSignal(array([], dtype=float64) * V, [0.0 s, 0.0 s], sampling rate: 1000.0 Hz)>\n",
        " 87: <AnalogSignal(array([], dtype=float64) * V, [0.0 s, 0.0 s], sampling rate: 1000.0 Hz)>\n",
        " 88: <AnalogSignal(array([], dtype=float64) * V, [0.0 s, 0.0 s], sampling rate: 1000.0 Hz)>\n",
        " 89: <AnalogSignal(array([], dtype=float64) * V, [0.0 s, 0.0 s], sampling rate: 1000.0 Hz)>\n",
        " 90: <AnalogSignal(array([], dtype=float64) * V, [0.0 s, 0.0 s], sampling rate: 1000.0 Hz)>\n",
        " 91: <AnalogSignal(array([], dtype=float64) * V, [0.0 s, 0.0 s], sampling rate: 1000.0 Hz)>\n",
        " 92: <AnalogSignal(array([], dtype=float64) * V, [0.0 s, 0.0 s], sampling rate: 1000.0 Hz)>\n",
        " 93: <AnalogSignal(array([], dtype=float64) * V, [0.0 s, 0.0 s], sampling rate: 1000.0 Hz)>\n",
        " 94: <AnalogSignal(array([], dtype=float64) * V, [0.0 s, 0.0 s], sampling rate: 1000.0 Hz)>\n",
        " 95: <AnalogSignal(array([], dtype=float64) * V, [0.0 s, 0.0 s], sampling rate: 1000.0 Hz)>\n",
        " 96: <AnalogSignal(array([], dtype=float64) * V, [0.0 s, 0.0 s], sampling rate: 1000.0 Hz)>\n",
        " 97: <AnalogSignal(array([], dtype=float64) * V, [0.0 s, 0.0 s], sampling rate: 1000.0 Hz)>\n",
        " 98: <AnalogSignal(array([], dtype=float64) * V, [0.0 s, 0.0 s], sampling rate: 1000.0 Hz)>\n",
        " 99: <AnalogSignal(array([], dtype=float64) * V, [0.0 s, 0.0 s], sampling rate: 1000.0 Hz)>\n",
        " 100: <AnalogSignal(array([], dtype=float64) * V, [0.0 s, 0.0 s], sampling rate: 1000.0 Hz)>\n",
        " 101: <AnalogSignal(array([], dtype=float64) * V, [0.0 s, 0.0 s], sampling rate: 1000.0 Hz)>\n",
        " 102: <AnalogSignal(array([], dtype=float64) * V, [0.0 s, 0.0 s], sampling rate: 1000.0 Hz)>\n",
        " 103: <AnalogSignal(array([], dtype=float64) * V, [0.0 s, 0.0 s], sampling rate: 1000.0 Hz)>\n",
        " 104: <AnalogSignal(array([], dtype=float64) * V, [0.0 s, 0.0 s], sampling rate: 1000.0 Hz)>\n",
        " 105: <AnalogSignal(array([], dtype=float64) * V, [0.0 s, 0.0 s], sampling rate: 1000.0 Hz)>\n",
        " 106: <AnalogSignal(array([], dtype=float64) * V, [0.0 s, 0.0 s], sampling rate: 1000.0 Hz)>\n",
        " 107: <AnalogSignal(array([], dtype=float64) * V, [0.0 s, 0.0 s], sampling rate: 1000.0 Hz)>\n",
        " 108: <AnalogSignal(array([], dtype=float64) * V, [0.0 s, 0.0 s], sampling rate: 1000.0 Hz)>\n",
        " 109: <AnalogSignal(array([], dtype=float64) * V, [0.0 s, 0.0 s], sampling rate: 1000.0 Hz)>\n",
        " 110: <AnalogSignal(array([], dtype=float64) * V, [0.0 s, 0.0 s], sampling rate: 1000.0 Hz)>\n",
        " 111: <AnalogSignal(array([], dtype=float64) * V, [0.0 s, 0.0 s], sampling rate: 1000.0 Hz)>\n",
        " 112: <AnalogSignal(array([], dtype=float64) * V, [0.0 s, 0.0 s], sampling rate: 1000.0 Hz)>\n",
        " 113: <AnalogSignal(array([], dtype=float64) * V, [0.0 s, 0.0 s], sampling rate: 1000.0 Hz)>\n",
        " 114: <AnalogSignal(array([], dtype=float64) * V, [0.0 s, 0.0 s], sampling rate: 1000.0 Hz)>\n",
        " 115: <AnalogSignal(array([], dtype=float64) * V, [0.0 s, 0.0 s], sampling rate: 1000.0 Hz)>\n",
        " 116: <AnalogSignal(array([], dtype=float64) * V, [0.0 s, 0.0 s], sampling rate: 1000.0 Hz)>\n",
        " 117: <AnalogSignal(array([], dtype=float64) * V, [0.0 s, 0.0 s], sampling rate: 1000.0 Hz)>\n",
        " 118: <AnalogSignal(array([], dtype=float64) * V, [0.0 s, 0.0 s], sampling rate: 1000.0 Hz)>\n",
        " 119: <AnalogSignal(array([], dtype=float64) * V, [0.0 s, 0.0 s], sampling rate: 1000.0 Hz)>\n",
        " 120: <AnalogSignal(array([], dtype=float64) * V, [0.0 s, 0.0 s], sampling rate: 1000.0 Hz)>\n",
        " 121: <AnalogSignal(array([], dtype=float64) * V, [0.0 s, 0.0 s], sampling rate: 1000.0 Hz)>\n",
        " 122: <AnalogSignal(array([], dtype=float64) * V, [0.0 s, 0.0 s], sampling rate: 1000.0 Hz)>\n",
        " 123: <AnalogSignal(array([], dtype=float64) * V, [0.0 s, 0.0 s], sampling rate: 1000.0 Hz)>\n",
        " 124: <AnalogSignal(array([], dtype=float64) * V, [0.0 s, 0.0 s], sampling rate: 1000.0 Hz)>\n",
        " 125: <AnalogSignal(array([], dtype=float64) * V, [0.0 s, 0.0 s], sampling rate: 1000.0 Hz)>\n",
        " 126: <AnalogSignal(array([], dtype=float64) * V, [0.0 s, 0.0 s], sampling rate: 1000.0 Hz)>\n",
        " 127: <AnalogSignal(array([], dtype=float64) * V, [0.0 s, 0.0 s], sampling rate: 1000.0 Hz)>]"
       ]
      }
     ],
     "prompt_number": 9
    },
    {
     "cell_type": "code",
     "collapsed": false,
     "input": [
      "m = block.segments[0].analogsignals[0]"
     ],
     "language": "python",
     "metadata": {},
     "outputs": [],
     "prompt_number": 10
    },
    {
     "cell_type": "code",
     "collapsed": false,
     "input": [
      "m"
     ],
     "language": "python",
     "metadata": {},
     "outputs": [
      {
       "output_type": "pyout",
       "prompt_number": 13,
       "text": [
        "<AnalogSignal(array([], dtype=float64) * V, [0.0 s, 0.0 s], sampling rate: 1000.0 Hz)>"
       ]
      }
     ],
     "prompt_number": 13
    },
    {
     "cell_type": "code",
     "collapsed": false,
     "input": [
      "nio.PlexonIO.supported_objects"
     ],
     "language": "python",
     "metadata": {},
     "outputs": [
      {
       "output_type": "pyout",
       "prompt_number": 17,
       "text": [
        "[neo.core.segment.Segment,\n",
        " neo.core.analogsignal.AnalogSignal,\n",
        " neo.core.spiketrain.SpikeTrain,\n",
        " neo.core.eventarray.EventArray,\n",
        " neo.core.epocharray.EpochArray]"
       ]
      }
     ],
     "prompt_number": 17
    },
    {
     "cell_type": "code",
     "collapsed": false,
     "input": [
      "axon_reader = nio.AxonIO(filename=\"/Users/barry/Desktop/12611000.abf\")"
     ],
     "language": "python",
     "metadata": {},
     "outputs": [],
     "prompt_number": 21
    },
    {
     "cell_type": "code",
     "collapsed": false,
     "input": [
      "block = axon_reader.read()"
     ],
     "language": "python",
     "metadata": {},
     "outputs": [],
     "prompt_number": 22
    },
    {
     "cell_type": "code",
     "collapsed": false,
     "input": [
      "block.segments"
     ],
     "language": "python",
     "metadata": {},
     "outputs": [
      {
       "output_type": "pyout",
       "prompt_number": 23,
       "text": [
        "[Segment with 4 analogs\n",
        " # Analog signals (N=4)\n",
        " 0: <AnalogSignal(array([ -966.1864624 ,  -812.37786865,  -680.54199219, ..., -2981.56738281,\n",
        "       -2875.9765625 , -2718.50585938], dtype=float32) * pA, [0.0 s, 26.0096 s], sampling rate: 10000.0 Hz)>\n",
        " 1: <AnalogSignal(array([ -38.84887695,  -31.37207031,  -31.76879883, ..., -159.54589844,\n",
        "       -148.86474609, -144.01245117], dtype=float32) * mV, [0.0 s, 26.0096 s], sampling rate: 10000.0 Hz)>\n",
        " 2: <AnalogSignal(array([ 0.        ,  0.        ,  0.        , ..., -1.22070301,\n",
        "        0.        ,  0.6103515 ], dtype=float32) * pA, [0.0 s, 26.0096 s], sampling rate: 10000.0 Hz)>\n",
        " 3: <AnalogSignal(array([ 4960.63183594,  4960.93701172,  4961.2421875 , ...,    39.36767197,\n",
        "          39.36767197,    39.67284775], dtype=float32) * mV, [0.0 s, 26.0096 s], sampling rate: 10000.0 Hz)>]"
       ]
      }
     ],
     "prompt_number": 23
    }
   ],
   "metadata": {}
  }
 ]
}