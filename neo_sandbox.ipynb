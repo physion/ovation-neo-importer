{
 "metadata": {
  "name": "neo_sandbox"
 },
 "nbformat": 3,
 "nbformat_minor": 0,
 "worksheets": [
  {
   "cells": [
    {
     "cell_type": "code",
     "collapsed": false,
     "input": [
      "import neo\n",
      "import neo.io as nio"
     ],
     "language": "python",
     "metadata": {},
     "outputs": [],
     "prompt_number": 1
    },
    {
     "cell_type": "code",
     "collapsed": false,
     "input": [
      "reader = nio.PlexonIO('fixtures/example1.plx')\n",
      "block = reader.read()"
     ],
     "language": "python",
     "metadata": {},
     "outputs": [],
     "prompt_number": 2
    },
    {
     "cell_type": "code",
     "collapsed": false,
     "input": [
      "block.segments"
     ],
     "language": "python",
     "metadata": {},
     "outputs": [
      {
       "output_type": "pyout",
       "prompt_number": 3,
       "text": [
        "[Segment with 128 analogs, 28 event arrays, 12 spike trains\n",
        " annotations: {'plexon_version': 106}\n",
        " # Analog signals (N=128)\n",
        " 0: <AnalogSignal(array([], dtype=float64) * V, [0.0 s, 0.0 s], sampling rate: 1000.0 Hz)>\n",
        " 1: <AnalogSignal(array([], dtype=float64) * V, [0.0 s, 0.0 s], sampling rate: 1000.0 Hz)>\n",
        " 2: <AnalogSignal(array([], dtype=float64) * V, [0.0 s, 0.0 s], sampling rate: 1000.0 Hz)>\n",
        " 3: <AnalogSignal(array([], dtype=float64) * V, [0.0 s, 0.0 s], sampling rate: 1000.0 Hz)>\n",
        " 4: <AnalogSignal(array([], dtype=float64) * V, [0.0 s, 0.0 s], sampling rate: 1000.0 Hz)>\n",
        " 5: <AnalogSignal(array([], dtype=float64) * V, [0.0 s, 0.0 s], sampling rate: 1000.0 Hz)>\n",
        " 6: <AnalogSignal(array([], dtype=float64) * V, [0.0 s, 0.0 s], sampling rate: 1000.0 Hz)>\n",
        " 7: <AnalogSignal(array([], dtype=float64) * V, [0.0 s, 0.0 s], sampling rate: 1000.0 Hz)>\n",
        " 8: <AnalogSignal(array([], dtype=float64) * V, [0.0 s, 0.0 s], sampling rate: 1000.0 Hz)>\n",
        " 9: <AnalogSignal(array([], dtype=float64) * V, [0.0 s, 0.0 s], sampling rate: 1000.0 Hz)>\n",
        " 10: <AnalogSignal(array([], dtype=float64) * V, [0.0 s, 0.0 s], sampling rate: 1000.0 Hz)>\n",
        " 11: <AnalogSignal(array([], dtype=float64) * V, [0.0 s, 0.0 s], sampling rate: 1000.0 Hz)>\n",
        " 12: <AnalogSignal(array([], dtype=float64) * V, [0.0 s, 0.0 s], sampling rate: 1000.0 Hz)>\n",
        " 13: <AnalogSignal(array([], dtype=float64) * V, [0.0 s, 0.0 s], sampling rate: 1000.0 Hz)>\n",
        " 14: <AnalogSignal(array([], dtype=float64) * V, [0.0 s, 0.0 s], sampling rate: 1000.0 Hz)>\n",
        " 15: <AnalogSignal(array([], dtype=float64) * V, [0.0 s, 0.0 s], sampling rate: 1000.0 Hz)>\n",
        " 16: <AnalogSignal(array([], dtype=float64) * V, [0.0 s, 0.0 s], sampling rate: 1000.0 Hz)>\n",
        " 17: <AnalogSignal(array([], dtype=float64) * V, [0.0 s, 0.0 s], sampling rate: 1000.0 Hz)>\n",
        " 18: <AnalogSignal(array([], dtype=float64) * V, [0.0 s, 0.0 s], sampling rate: 1000.0 Hz)>\n",
        " 19: <AnalogSignal(array([], dtype=float64) * V, [0.0 s, 0.0 s], sampling rate: 1000.0 Hz)>\n",
        " 20: <AnalogSignal(array([], dtype=float64) * V, [0.0 s, 0.0 s], sampling rate: 1000.0 Hz)>\n",
        " 21: <AnalogSignal(array([], dtype=float64) * V, [0.0 s, 0.0 s], sampling rate: 1000.0 Hz)>\n",
        " 22: <AnalogSignal(array([], dtype=float64) * V, [0.0 s, 0.0 s], sampling rate: 1000.0 Hz)>\n",
        " 23: <AnalogSignal(array([], dtype=float64) * V, [0.0 s, 0.0 s], sampling rate: 1000.0 Hz)>\n",
        " 24: <AnalogSignal(array([], dtype=float64) * V, [0.0 s, 0.0 s], sampling rate: 1000.0 Hz)>\n",
        " 25: <AnalogSignal(array([], dtype=float64) * V, [0.0 s, 0.0 s], sampling rate: 1000.0 Hz)>\n",
        " 26: <AnalogSignal(array([], dtype=float64) * V, [0.0 s, 0.0 s], sampling rate: 1000.0 Hz)>\n",
        " 27: <AnalogSignal(array([], dtype=float64) * V, [0.0 s, 0.0 s], sampling rate: 1000.0 Hz)>\n",
        " 28: <AnalogSignal(array([], dtype=float64) * V, [0.0 s, 0.0 s], sampling rate: 1000.0 Hz)>\n",
        " 29: <AnalogSignal(array([], dtype=float64) * V, [0.0 s, 0.0 s], sampling rate: 1000.0 Hz)>\n",
        " 30: <AnalogSignal(array([], dtype=float64) * V, [0.0 s, 0.0 s], sampling rate: 1000.0 Hz)>\n",
        " 31: <AnalogSignal(array([], dtype=float64) * V, [0.0 s, 0.0 s], sampling rate: 1000.0 Hz)>\n",
        " 32: <AnalogSignal(array([], dtype=float64) * V, [0.0 s, 0.0 s], sampling rate: 1000.0 Hz)>\n",
        " 33: <AnalogSignal(array([], dtype=float64) * V, [0.0 s, 0.0 s], sampling rate: 1000.0 Hz)>\n",
        " 34: <AnalogSignal(array([], dtype=float64) * V, [0.0 s, 0.0 s], sampling rate: 1000.0 Hz)>\n",
        " 35: <AnalogSignal(array([], dtype=float64) * V, [0.0 s, 0.0 s], sampling rate: 1000.0 Hz)>\n",
        " 36: <AnalogSignal(array([], dtype=float64) * V, [0.0 s, 0.0 s], sampling rate: 1000.0 Hz)>\n",
        " 37: <AnalogSignal(array([], dtype=float64) * V, [0.0 s, 0.0 s], sampling rate: 1000.0 Hz)>\n",
        " 38: <AnalogSignal(array([], dtype=float64) * V, [0.0 s, 0.0 s], sampling rate: 1000.0 Hz)>\n",
        " 39: <AnalogSignal(array([], dtype=float64) * V, [0.0 s, 0.0 s], sampling rate: 1000.0 Hz)>\n",
        " 40: <AnalogSignal(array([], dtype=float64) * V, [0.0 s, 0.0 s], sampling rate: 1000.0 Hz)>\n",
        " 41: <AnalogSignal(array([], dtype=float64) * V, [0.0 s, 0.0 s], sampling rate: 1000.0 Hz)>\n",
        " 42: <AnalogSignal(array([], dtype=float64) * V, [0.0 s, 0.0 s], sampling rate: 1000.0 Hz)>\n",
        " 43: <AnalogSignal(array([], dtype=float64) * V, [0.0 s, 0.0 s], sampling rate: 1000.0 Hz)>\n",
        " 44: <AnalogSignal(array([], dtype=float64) * V, [0.0 s, 0.0 s], sampling rate: 1000.0 Hz)>\n",
        " 45: <AnalogSignal(array([], dtype=float64) * V, [0.0 s, 0.0 s], sampling rate: 1000.0 Hz)>\n",
        " 46: <AnalogSignal(array([], dtype=float64) * V, [0.0 s, 0.0 s], sampling rate: 1000.0 Hz)>\n",
        " 47: <AnalogSignal(array([], dtype=float64) * V, [0.0 s, 0.0 s], sampling rate: 1000.0 Hz)>\n",
        " 48: <AnalogSignal(array([], dtype=float64) * V, [0.0 s, 0.0 s], sampling rate: 1000.0 Hz)>\n",
        " 49: <AnalogSignal(array([], dtype=float64) * V, [0.0 s, 0.0 s], sampling rate: 1000.0 Hz)>\n",
        " 50: <AnalogSignal(array([], dtype=float64) * V, [0.0 s, 0.0 s], sampling rate: 1000.0 Hz)>\n",
        " 51: <AnalogSignal(array([], dtype=float64) * V, [0.0 s, 0.0 s], sampling rate: 1000.0 Hz)>\n",
        " 52: <AnalogSignal(array([], dtype=float64) * V, [0.0 s, 0.0 s], sampling rate: 1000.0 Hz)>\n",
        " 53: <AnalogSignal(array([], dtype=float64) * V, [0.0 s, 0.0 s], sampling rate: 1000.0 Hz)>\n",
        " 54: <AnalogSignal(array([], dtype=float64) * V, [0.0 s, 0.0 s], sampling rate: 1000.0 Hz)>\n",
        " 55: <AnalogSignal(array([], dtype=float64) * V, [0.0 s, 0.0 s], sampling rate: 1000.0 Hz)>\n",
        " 56: <AnalogSignal(array([], dtype=float64) * V, [0.0 s, 0.0 s], sampling rate: 1000.0 Hz)>\n",
        " 57: <AnalogSignal(array([], dtype=float64) * V, [0.0 s, 0.0 s], sampling rate: 1000.0 Hz)>\n",
        " 58: <AnalogSignal(array([], dtype=float64) * V, [0.0 s, 0.0 s], sampling rate: 1000.0 Hz)>\n",
        " 59: <AnalogSignal(array([], dtype=float64) * V, [0.0 s, 0.0 s], sampling rate: 1000.0 Hz)>\n",
        " 60: <AnalogSignal(array([], dtype=float64) * V, [0.0 s, 0.0 s], sampling rate: 1000.0 Hz)>\n",
        " 61: <AnalogSignal(array([], dtype=float64) * V, [0.0 s, 0.0 s], sampling rate: 1000.0 Hz)>\n",
        " 62: <AnalogSignal(array([], dtype=float64) * V, [0.0 s, 0.0 s], sampling rate: 1000.0 Hz)>\n",
        " 63: <AnalogSignal(array([], dtype=float64) * V, [0.0 s, 0.0 s], sampling rate: 1000.0 Hz)>\n",
        " 64: <AnalogSignal(array([], dtype=float64) * V, [0.0 s, 0.0 s], sampling rate: 1000.0 Hz)>\n",
        " 65: <AnalogSignal(array([], dtype=float64) * V, [0.0 s, 0.0 s], sampling rate: 1000.0 Hz)>\n",
        " 66: <AnalogSignal(array([], dtype=float64) * V, [0.0 s, 0.0 s], sampling rate: 1000.0 Hz)>\n",
        " 67: <AnalogSignal(array([], dtype=float64) * V, [0.0 s, 0.0 s], sampling rate: 1000.0 Hz)>\n",
        " 68: <AnalogSignal(array([], dtype=float64) * V, [0.0 s, 0.0 s], sampling rate: 1000.0 Hz)>\n",
        " 69: <AnalogSignal(array([], dtype=float64) * V, [0.0 s, 0.0 s], sampling rate: 1000.0 Hz)>\n",
        " 70: <AnalogSignal(array([], dtype=float64) * V, [0.0 s, 0.0 s], sampling rate: 1000.0 Hz)>\n",
        " 71: <AnalogSignal(array([], dtype=float64) * V, [0.0 s, 0.0 s], sampling rate: 1000.0 Hz)>\n",
        " 72: <AnalogSignal(array([], dtype=float64) * V, [0.0 s, 0.0 s], sampling rate: 1000.0 Hz)>\n",
        " 73: <AnalogSignal(array([], dtype=float64) * V, [0.0 s, 0.0 s], sampling rate: 1000.0 Hz)>\n",
        " 74: <AnalogSignal(array([], dtype=float64) * V, [0.0 s, 0.0 s], sampling rate: 1000.0 Hz)>\n",
        " 75: <AnalogSignal(array([], dtype=float64) * V, [0.0 s, 0.0 s], sampling rate: 1000.0 Hz)>\n",
        " 76: <AnalogSignal(array([], dtype=float64) * V, [0.0 s, 0.0 s], sampling rate: 1000.0 Hz)>\n",
        " 77: <AnalogSignal(array([], dtype=float64) * V, [0.0 s, 0.0 s], sampling rate: 1000.0 Hz)>\n",
        " 78: <AnalogSignal(array([], dtype=float64) * V, [0.0 s, 0.0 s], sampling rate: 1000.0 Hz)>\n",
        " 79: <AnalogSignal(array([], dtype=float64) * V, [0.0 s, 0.0 s], sampling rate: 1000.0 Hz)>\n",
        " 80: <AnalogSignal(array([], dtype=float64) * V, [0.0 s, 0.0 s], sampling rate: 1000.0 Hz)>\n",
        " 81: <AnalogSignal(array([], dtype=float64) * V, [0.0 s, 0.0 s], sampling rate: 1000.0 Hz)>\n",
        " 82: <AnalogSignal(array([], dtype=float64) * V, [0.0 s, 0.0 s], sampling rate: 1000.0 Hz)>\n",
        " 83: <AnalogSignal(array([], dtype=float64) * V, [0.0 s, 0.0 s], sampling rate: 1000.0 Hz)>\n",
        " 84: <AnalogSignal(array([], dtype=float64) * V, [0.0 s, 0.0 s], sampling rate: 1000.0 Hz)>\n",
        " 85: <AnalogSignal(array([], dtype=float64) * V, [0.0 s, 0.0 s], sampling rate: 1000.0 Hz)>\n",
        " 86: <AnalogSignal(array([], dtype=float64) * V, [0.0 s, 0.0 s], sampling rate: 1000.0 Hz)>\n",
        " 87: <AnalogSignal(array([], dtype=float64) * V, [0.0 s, 0.0 s], sampling rate: 1000.0 Hz)>\n",
        " 88: <AnalogSignal(array([], dtype=float64) * V, [0.0 s, 0.0 s], sampling rate: 1000.0 Hz)>\n",
        " 89: <AnalogSignal(array([], dtype=float64) * V, [0.0 s, 0.0 s], sampling rate: 1000.0 Hz)>\n",
        " 90: <AnalogSignal(array([], dtype=float64) * V, [0.0 s, 0.0 s], sampling rate: 1000.0 Hz)>\n",
        " 91: <AnalogSignal(array([], dtype=float64) * V, [0.0 s, 0.0 s], sampling rate: 1000.0 Hz)>\n",
        " 92: <AnalogSignal(array([], dtype=float64) * V, [0.0 s, 0.0 s], sampling rate: 1000.0 Hz)>\n",
        " 93: <AnalogSignal(array([], dtype=float64) * V, [0.0 s, 0.0 s], sampling rate: 1000.0 Hz)>\n",
        " 94: <AnalogSignal(array([], dtype=float64) * V, [0.0 s, 0.0 s], sampling rate: 1000.0 Hz)>\n",
        " 95: <AnalogSignal(array([], dtype=float64) * V, [0.0 s, 0.0 s], sampling rate: 1000.0 Hz)>\n",
        " 96: <AnalogSignal(array([], dtype=float64) * V, [0.0 s, 0.0 s], sampling rate: 1000.0 Hz)>\n",
        " 97: <AnalogSignal(array([], dtype=float64) * V, [0.0 s, 0.0 s], sampling rate: 1000.0 Hz)>\n",
        " 98: <AnalogSignal(array([], dtype=float64) * V, [0.0 s, 0.0 s], sampling rate: 1000.0 Hz)>\n",
        " 99: <AnalogSignal(array([], dtype=float64) * V, [0.0 s, 0.0 s], sampling rate: 1000.0 Hz)>\n",
        " 100: <AnalogSignal(array([], dtype=float64) * V, [0.0 s, 0.0 s], sampling rate: 1000.0 Hz)>\n",
        " 101: <AnalogSignal(array([], dtype=float64) * V, [0.0 s, 0.0 s], sampling rate: 1000.0 Hz)>\n",
        " 102: <AnalogSignal(array([], dtype=float64) * V, [0.0 s, 0.0 s], sampling rate: 1000.0 Hz)>\n",
        " 103: <AnalogSignal(array([], dtype=float64) * V, [0.0 s, 0.0 s], sampling rate: 1000.0 Hz)>\n",
        " 104: <AnalogSignal(array([], dtype=float64) * V, [0.0 s, 0.0 s], sampling rate: 1000.0 Hz)>\n",
        " 105: <AnalogSignal(array([], dtype=float64) * V, [0.0 s, 0.0 s], sampling rate: 1000.0 Hz)>\n",
        " 106: <AnalogSignal(array([], dtype=float64) * V, [0.0 s, 0.0 s], sampling rate: 1000.0 Hz)>\n",
        " 107: <AnalogSignal(array([], dtype=float64) * V, [0.0 s, 0.0 s], sampling rate: 1000.0 Hz)>\n",
        " 108: <AnalogSignal(array([], dtype=float64) * V, [0.0 s, 0.0 s], sampling rate: 1000.0 Hz)>\n",
        " 109: <AnalogSignal(array([], dtype=float64) * V, [0.0 s, 0.0 s], sampling rate: 1000.0 Hz)>\n",
        " 110: <AnalogSignal(array([], dtype=float64) * V, [0.0 s, 0.0 s], sampling rate: 1000.0 Hz)>\n",
        " 111: <AnalogSignal(array([], dtype=float64) * V, [0.0 s, 0.0 s], sampling rate: 1000.0 Hz)>\n",
        " 112: <AnalogSignal(array([], dtype=float64) * V, [0.0 s, 0.0 s], sampling rate: 1000.0 Hz)>\n",
        " 113: <AnalogSignal(array([], dtype=float64) * V, [0.0 s, 0.0 s], sampling rate: 1000.0 Hz)>\n",
        " 114: <AnalogSignal(array([], dtype=float64) * V, [0.0 s, 0.0 s], sampling rate: 1000.0 Hz)>\n",
        " 115: <AnalogSignal(array([], dtype=float64) * V, [0.0 s, 0.0 s], sampling rate: 1000.0 Hz)>\n",
        " 116: <AnalogSignal(array([], dtype=float64) * V, [0.0 s, 0.0 s], sampling rate: 1000.0 Hz)>\n",
        " 117: <AnalogSignal(array([], dtype=float64) * V, [0.0 s, 0.0 s], sampling rate: 1000.0 Hz)>\n",
        " 118: <AnalogSignal(array([], dtype=float64) * V, [0.0 s, 0.0 s], sampling rate: 1000.0 Hz)>\n",
        " 119: <AnalogSignal(array([], dtype=float64) * V, [0.0 s, 0.0 s], sampling rate: 1000.0 Hz)>\n",
        " 120: <AnalogSignal(array([], dtype=float64) * V, [0.0 s, 0.0 s], sampling rate: 1000.0 Hz)>\n",
        " 121: <AnalogSignal(array([], dtype=float64) * V, [0.0 s, 0.0 s], sampling rate: 1000.0 Hz)>\n",
        " 122: <AnalogSignal(array([], dtype=float64) * V, [0.0 s, 0.0 s], sampling rate: 1000.0 Hz)>\n",
        " 123: <AnalogSignal(array([], dtype=float64) * V, [0.0 s, 0.0 s], sampling rate: 1000.0 Hz)>\n",
        " 124: <AnalogSignal(array([], dtype=float64) * V, [0.0 s, 0.0 s], sampling rate: 1000.0 Hz)>\n",
        " 125: <AnalogSignal(array([], dtype=float64) * V, [0.0 s, 0.0 s], sampling rate: 1000.0 Hz)>\n",
        " 126: <AnalogSignal(array([], dtype=float64) * V, [0.0 s, 0.0 s], sampling rate: 1000.0 Hz)>\n",
        " 127: <AnalogSignal(array([], dtype=float64) * V, [0.0 s, 0.0 s], sampling rate: 1000.0 Hz)>]"
       ]
      }
     ],
     "prompt_number": 3
    },
    {
     "cell_type": "code",
     "collapsed": false,
     "input": [
      "block.__dict__"
     ],
     "language": "python",
     "metadata": {},
     "outputs": [
      {
       "output_type": "pyout",
       "prompt_number": 10,
       "text": [
        "{'annotations': {},\n",
        " 'description': None,\n",
        " 'file_datetime': None,\n",
        " 'file_origin': None,\n",
        " 'index': None,\n",
        " 'name': 'One segment only',\n",
        " 'rec_datetime': None,\n",
        " 'recordingchannelgroups': [],\n",
        " 'segments': [Segment with 128 analogs, 28 event arrays, 12 spike trains\n",
        "  annotations: {'plexon_version': 106}\n",
        "  # Analog signals (N=128)\n",
        "  0: <AnalogSignal(array([], dtype=float64) * V, [0.0 s, 0.0 s], sampling rate: 1000.0 Hz)>\n",
        "  1: <AnalogSignal(array([], dtype=float64) * V, [0.0 s, 0.0 s], sampling rate: 1000.0 Hz)>\n",
        "  2: <AnalogSignal(array([], dtype=float64) * V, [0.0 s, 0.0 s], sampling rate: 1000.0 Hz)>\n",
        "  3: <AnalogSignal(array([], dtype=float64) * V, [0.0 s, 0.0 s], sampling rate: 1000.0 Hz)>\n",
        "  4: <AnalogSignal(array([], dtype=float64) * V, [0.0 s, 0.0 s], sampling rate: 1000.0 Hz)>\n",
        "  5: <AnalogSignal(array([], dtype=float64) * V, [0.0 s, 0.0 s], sampling rate: 1000.0 Hz)>\n",
        "  6: <AnalogSignal(array([], dtype=float64) * V, [0.0 s, 0.0 s], sampling rate: 1000.0 Hz)>\n",
        "  7: <AnalogSignal(array([], dtype=float64) * V, [0.0 s, 0.0 s], sampling rate: 1000.0 Hz)>\n",
        "  8: <AnalogSignal(array([], dtype=float64) * V, [0.0 s, 0.0 s], sampling rate: 1000.0 Hz)>\n",
        "  9: <AnalogSignal(array([], dtype=float64) * V, [0.0 s, 0.0 s], sampling rate: 1000.0 Hz)>\n",
        "  10: <AnalogSignal(array([], dtype=float64) * V, [0.0 s, 0.0 s], sampling rate: 1000.0 Hz)>\n",
        "  11: <AnalogSignal(array([], dtype=float64) * V, [0.0 s, 0.0 s], sampling rate: 1000.0 Hz)>\n",
        "  12: <AnalogSignal(array([], dtype=float64) * V, [0.0 s, 0.0 s], sampling rate: 1000.0 Hz)>\n",
        "  13: <AnalogSignal(array([], dtype=float64) * V, [0.0 s, 0.0 s], sampling rate: 1000.0 Hz)>\n",
        "  14: <AnalogSignal(array([], dtype=float64) * V, [0.0 s, 0.0 s], sampling rate: 1000.0 Hz)>\n",
        "  15: <AnalogSignal(array([], dtype=float64) * V, [0.0 s, 0.0 s], sampling rate: 1000.0 Hz)>\n",
        "  16: <AnalogSignal(array([], dtype=float64) * V, [0.0 s, 0.0 s], sampling rate: 1000.0 Hz)>\n",
        "  17: <AnalogSignal(array([], dtype=float64) * V, [0.0 s, 0.0 s], sampling rate: 1000.0 Hz)>\n",
        "  18: <AnalogSignal(array([], dtype=float64) * V, [0.0 s, 0.0 s], sampling rate: 1000.0 Hz)>\n",
        "  19: <AnalogSignal(array([], dtype=float64) * V, [0.0 s, 0.0 s], sampling rate: 1000.0 Hz)>\n",
        "  20: <AnalogSignal(array([], dtype=float64) * V, [0.0 s, 0.0 s], sampling rate: 1000.0 Hz)>\n",
        "  21: <AnalogSignal(array([], dtype=float64) * V, [0.0 s, 0.0 s], sampling rate: 1000.0 Hz)>\n",
        "  22: <AnalogSignal(array([], dtype=float64) * V, [0.0 s, 0.0 s], sampling rate: 1000.0 Hz)>\n",
        "  23: <AnalogSignal(array([], dtype=float64) * V, [0.0 s, 0.0 s], sampling rate: 1000.0 Hz)>\n",
        "  24: <AnalogSignal(array([], dtype=float64) * V, [0.0 s, 0.0 s], sampling rate: 1000.0 Hz)>\n",
        "  25: <AnalogSignal(array([], dtype=float64) * V, [0.0 s, 0.0 s], sampling rate: 1000.0 Hz)>\n",
        "  26: <AnalogSignal(array([], dtype=float64) * V, [0.0 s, 0.0 s], sampling rate: 1000.0 Hz)>\n",
        "  27: <AnalogSignal(array([], dtype=float64) * V, [0.0 s, 0.0 s], sampling rate: 1000.0 Hz)>\n",
        "  28: <AnalogSignal(array([], dtype=float64) * V, [0.0 s, 0.0 s], sampling rate: 1000.0 Hz)>\n",
        "  29: <AnalogSignal(array([], dtype=float64) * V, [0.0 s, 0.0 s], sampling rate: 1000.0 Hz)>\n",
        "  30: <AnalogSignal(array([], dtype=float64) * V, [0.0 s, 0.0 s], sampling rate: 1000.0 Hz)>\n",
        "  31: <AnalogSignal(array([], dtype=float64) * V, [0.0 s, 0.0 s], sampling rate: 1000.0 Hz)>\n",
        "  32: <AnalogSignal(array([], dtype=float64) * V, [0.0 s, 0.0 s], sampling rate: 1000.0 Hz)>\n",
        "  33: <AnalogSignal(array([], dtype=float64) * V, [0.0 s, 0.0 s], sampling rate: 1000.0 Hz)>\n",
        "  34: <AnalogSignal(array([], dtype=float64) * V, [0.0 s, 0.0 s], sampling rate: 1000.0 Hz)>\n",
        "  35: <AnalogSignal(array([], dtype=float64) * V, [0.0 s, 0.0 s], sampling rate: 1000.0 Hz)>\n",
        "  36: <AnalogSignal(array([], dtype=float64) * V, [0.0 s, 0.0 s], sampling rate: 1000.0 Hz)>\n",
        "  37: <AnalogSignal(array([], dtype=float64) * V, [0.0 s, 0.0 s], sampling rate: 1000.0 Hz)>\n",
        "  38: <AnalogSignal(array([], dtype=float64) * V, [0.0 s, 0.0 s], sampling rate: 1000.0 Hz)>\n",
        "  39: <AnalogSignal(array([], dtype=float64) * V, [0.0 s, 0.0 s], sampling rate: 1000.0 Hz)>\n",
        "  40: <AnalogSignal(array([], dtype=float64) * V, [0.0 s, 0.0 s], sampling rate: 1000.0 Hz)>\n",
        "  41: <AnalogSignal(array([], dtype=float64) * V, [0.0 s, 0.0 s], sampling rate: 1000.0 Hz)>\n",
        "  42: <AnalogSignal(array([], dtype=float64) * V, [0.0 s, 0.0 s], sampling rate: 1000.0 Hz)>\n",
        "  43: <AnalogSignal(array([], dtype=float64) * V, [0.0 s, 0.0 s], sampling rate: 1000.0 Hz)>\n",
        "  44: <AnalogSignal(array([], dtype=float64) * V, [0.0 s, 0.0 s], sampling rate: 1000.0 Hz)>\n",
        "  45: <AnalogSignal(array([], dtype=float64) * V, [0.0 s, 0.0 s], sampling rate: 1000.0 Hz)>\n",
        "  46: <AnalogSignal(array([], dtype=float64) * V, [0.0 s, 0.0 s], sampling rate: 1000.0 Hz)>\n",
        "  47: <AnalogSignal(array([], dtype=float64) * V, [0.0 s, 0.0 s], sampling rate: 1000.0 Hz)>\n",
        "  48: <AnalogSignal(array([], dtype=float64) * V, [0.0 s, 0.0 s], sampling rate: 1000.0 Hz)>\n",
        "  49: <AnalogSignal(array([], dtype=float64) * V, [0.0 s, 0.0 s], sampling rate: 1000.0 Hz)>\n",
        "  50: <AnalogSignal(array([], dtype=float64) * V, [0.0 s, 0.0 s], sampling rate: 1000.0 Hz)>\n",
        "  51: <AnalogSignal(array([], dtype=float64) * V, [0.0 s, 0.0 s], sampling rate: 1000.0 Hz)>\n",
        "  52: <AnalogSignal(array([], dtype=float64) * V, [0.0 s, 0.0 s], sampling rate: 1000.0 Hz)>\n",
        "  53: <AnalogSignal(array([], dtype=float64) * V, [0.0 s, 0.0 s], sampling rate: 1000.0 Hz)>\n",
        "  54: <AnalogSignal(array([], dtype=float64) * V, [0.0 s, 0.0 s], sampling rate: 1000.0 Hz)>\n",
        "  55: <AnalogSignal(array([], dtype=float64) * V, [0.0 s, 0.0 s], sampling rate: 1000.0 Hz)>\n",
        "  56: <AnalogSignal(array([], dtype=float64) * V, [0.0 s, 0.0 s], sampling rate: 1000.0 Hz)>\n",
        "  57: <AnalogSignal(array([], dtype=float64) * V, [0.0 s, 0.0 s], sampling rate: 1000.0 Hz)>\n",
        "  58: <AnalogSignal(array([], dtype=float64) * V, [0.0 s, 0.0 s], sampling rate: 1000.0 Hz)>\n",
        "  59: <AnalogSignal(array([], dtype=float64) * V, [0.0 s, 0.0 s], sampling rate: 1000.0 Hz)>\n",
        "  60: <AnalogSignal(array([], dtype=float64) * V, [0.0 s, 0.0 s], sampling rate: 1000.0 Hz)>\n",
        "  61: <AnalogSignal(array([], dtype=float64) * V, [0.0 s, 0.0 s], sampling rate: 1000.0 Hz)>\n",
        "  62: <AnalogSignal(array([], dtype=float64) * V, [0.0 s, 0.0 s], sampling rate: 1000.0 Hz)>\n",
        "  63: <AnalogSignal(array([], dtype=float64) * V, [0.0 s, 0.0 s], sampling rate: 1000.0 Hz)>\n",
        "  64: <AnalogSignal(array([], dtype=float64) * V, [0.0 s, 0.0 s], sampling rate: 1000.0 Hz)>\n",
        "  65: <AnalogSignal(array([], dtype=float64) * V, [0.0 s, 0.0 s], sampling rate: 1000.0 Hz)>\n",
        "  66: <AnalogSignal(array([], dtype=float64) * V, [0.0 s, 0.0 s], sampling rate: 1000.0 Hz)>\n",
        "  67: <AnalogSignal(array([], dtype=float64) * V, [0.0 s, 0.0 s], sampling rate: 1000.0 Hz)>\n",
        "  68: <AnalogSignal(array([], dtype=float64) * V, [0.0 s, 0.0 s], sampling rate: 1000.0 Hz)>\n",
        "  69: <AnalogSignal(array([], dtype=float64) * V, [0.0 s, 0.0 s], sampling rate: 1000.0 Hz)>\n",
        "  70: <AnalogSignal(array([], dtype=float64) * V, [0.0 s, 0.0 s], sampling rate: 1000.0 Hz)>\n",
        "  71: <AnalogSignal(array([], dtype=float64) * V, [0.0 s, 0.0 s], sampling rate: 1000.0 Hz)>\n",
        "  72: <AnalogSignal(array([], dtype=float64) * V, [0.0 s, 0.0 s], sampling rate: 1000.0 Hz)>\n",
        "  73: <AnalogSignal(array([], dtype=float64) * V, [0.0 s, 0.0 s], sampling rate: 1000.0 Hz)>\n",
        "  74: <AnalogSignal(array([], dtype=float64) * V, [0.0 s, 0.0 s], sampling rate: 1000.0 Hz)>\n",
        "  75: <AnalogSignal(array([], dtype=float64) * V, [0.0 s, 0.0 s], sampling rate: 1000.0 Hz)>\n",
        "  76: <AnalogSignal(array([], dtype=float64) * V, [0.0 s, 0.0 s], sampling rate: 1000.0 Hz)>\n",
        "  77: <AnalogSignal(array([], dtype=float64) * V, [0.0 s, 0.0 s], sampling rate: 1000.0 Hz)>\n",
        "  78: <AnalogSignal(array([], dtype=float64) * V, [0.0 s, 0.0 s], sampling rate: 1000.0 Hz)>\n",
        "  79: <AnalogSignal(array([], dtype=float64) * V, [0.0 s, 0.0 s], sampling rate: 1000.0 Hz)>\n",
        "  80: <AnalogSignal(array([], dtype=float64) * V, [0.0 s, 0.0 s], sampling rate: 1000.0 Hz)>\n",
        "  81: <AnalogSignal(array([], dtype=float64) * V, [0.0 s, 0.0 s], sampling rate: 1000.0 Hz)>\n",
        "  82: <AnalogSignal(array([], dtype=float64) * V, [0.0 s, 0.0 s], sampling rate: 1000.0 Hz)>\n",
        "  83: <AnalogSignal(array([], dtype=float64) * V, [0.0 s, 0.0 s], sampling rate: 1000.0 Hz)>\n",
        "  84: <AnalogSignal(array([], dtype=float64) * V, [0.0 s, 0.0 s], sampling rate: 1000.0 Hz)>\n",
        "  85: <AnalogSignal(array([], dtype=float64) * V, [0.0 s, 0.0 s], sampling rate: 1000.0 Hz)>\n",
        "  86: <AnalogSignal(array([], dtype=float64) * V, [0.0 s, 0.0 s], sampling rate: 1000.0 Hz)>\n",
        "  87: <AnalogSignal(array([], dtype=float64) * V, [0.0 s, 0.0 s], sampling rate: 1000.0 Hz)>\n",
        "  88: <AnalogSignal(array([], dtype=float64) * V, [0.0 s, 0.0 s], sampling rate: 1000.0 Hz)>\n",
        "  89: <AnalogSignal(array([], dtype=float64) * V, [0.0 s, 0.0 s], sampling rate: 1000.0 Hz)>\n",
        "  90: <AnalogSignal(array([], dtype=float64) * V, [0.0 s, 0.0 s], sampling rate: 1000.0 Hz)>\n",
        "  91: <AnalogSignal(array([], dtype=float64) * V, [0.0 s, 0.0 s], sampling rate: 1000.0 Hz)>\n",
        "  92: <AnalogSignal(array([], dtype=float64) * V, [0.0 s, 0.0 s], sampling rate: 1000.0 Hz)>\n",
        "  93: <AnalogSignal(array([], dtype=float64) * V, [0.0 s, 0.0 s], sampling rate: 1000.0 Hz)>\n",
        "  94: <AnalogSignal(array([], dtype=float64) * V, [0.0 s, 0.0 s], sampling rate: 1000.0 Hz)>\n",
        "  95: <AnalogSignal(array([], dtype=float64) * V, [0.0 s, 0.0 s], sampling rate: 1000.0 Hz)>\n",
        "  96: <AnalogSignal(array([], dtype=float64) * V, [0.0 s, 0.0 s], sampling rate: 1000.0 Hz)>\n",
        "  97: <AnalogSignal(array([], dtype=float64) * V, [0.0 s, 0.0 s], sampling rate: 1000.0 Hz)>\n",
        "  98: <AnalogSignal(array([], dtype=float64) * V, [0.0 s, 0.0 s], sampling rate: 1000.0 Hz)>\n",
        "  99: <AnalogSignal(array([], dtype=float64) * V, [0.0 s, 0.0 s], sampling rate: 1000.0 Hz)>\n",
        "  100: <AnalogSignal(array([], dtype=float64) * V, [0.0 s, 0.0 s], sampling rate: 1000.0 Hz)>\n",
        "  101: <AnalogSignal(array([], dtype=float64) * V, [0.0 s, 0.0 s], sampling rate: 1000.0 Hz)>\n",
        "  102: <AnalogSignal(array([], dtype=float64) * V, [0.0 s, 0.0 s], sampling rate: 1000.0 Hz)>\n",
        "  103: <AnalogSignal(array([], dtype=float64) * V, [0.0 s, 0.0 s], sampling rate: 1000.0 Hz)>\n",
        "  104: <AnalogSignal(array([], dtype=float64) * V, [0.0 s, 0.0 s], sampling rate: 1000.0 Hz)>\n",
        "  105: <AnalogSignal(array([], dtype=float64) * V, [0.0 s, 0.0 s], sampling rate: 1000.0 Hz)>\n",
        "  106: <AnalogSignal(array([], dtype=float64) * V, [0.0 s, 0.0 s], sampling rate: 1000.0 Hz)>\n",
        "  107: <AnalogSignal(array([], dtype=float64) * V, [0.0 s, 0.0 s], sampling rate: 1000.0 Hz)>\n",
        "  108: <AnalogSignal(array([], dtype=float64) * V, [0.0 s, 0.0 s], sampling rate: 1000.0 Hz)>\n",
        "  109: <AnalogSignal(array([], dtype=float64) * V, [0.0 s, 0.0 s], sampling rate: 1000.0 Hz)>\n",
        "  110: <AnalogSignal(array([], dtype=float64) * V, [0.0 s, 0.0 s], sampling rate: 1000.0 Hz)>\n",
        "  111: <AnalogSignal(array([], dtype=float64) * V, [0.0 s, 0.0 s], sampling rate: 1000.0 Hz)>\n",
        "  112: <AnalogSignal(array([], dtype=float64) * V, [0.0 s, 0.0 s], sampling rate: 1000.0 Hz)>\n",
        "  113: <AnalogSignal(array([], dtype=float64) * V, [0.0 s, 0.0 s], sampling rate: 1000.0 Hz)>\n",
        "  114: <AnalogSignal(array([], dtype=float64) * V, [0.0 s, 0.0 s], sampling rate: 1000.0 Hz)>\n",
        "  115: <AnalogSignal(array([], dtype=float64) * V, [0.0 s, 0.0 s], sampling rate: 1000.0 Hz)>\n",
        "  116: <AnalogSignal(array([], dtype=float64) * V, [0.0 s, 0.0 s], sampling rate: 1000.0 Hz)>\n",
        "  117: <AnalogSignal(array([], dtype=float64) * V, [0.0 s, 0.0 s], sampling rate: 1000.0 Hz)>\n",
        "  118: <AnalogSignal(array([], dtype=float64) * V, [0.0 s, 0.0 s], sampling rate: 1000.0 Hz)>\n",
        "  119: <AnalogSignal(array([], dtype=float64) * V, [0.0 s, 0.0 s], sampling rate: 1000.0 Hz)>\n",
        "  120: <AnalogSignal(array([], dtype=float64) * V, [0.0 s, 0.0 s], sampling rate: 1000.0 Hz)>\n",
        "  121: <AnalogSignal(array([], dtype=float64) * V, [0.0 s, 0.0 s], sampling rate: 1000.0 Hz)>\n",
        "  122: <AnalogSignal(array([], dtype=float64) * V, [0.0 s, 0.0 s], sampling rate: 1000.0 Hz)>\n",
        "  123: <AnalogSignal(array([], dtype=float64) * V, [0.0 s, 0.0 s], sampling rate: 1000.0 Hz)>\n",
        "  124: <AnalogSignal(array([], dtype=float64) * V, [0.0 s, 0.0 s], sampling rate: 1000.0 Hz)>\n",
        "  125: <AnalogSignal(array([], dtype=float64) * V, [0.0 s, 0.0 s], sampling rate: 1000.0 Hz)>\n",
        "  126: <AnalogSignal(array([], dtype=float64) * V, [0.0 s, 0.0 s], sampling rate: 1000.0 Hz)>\n",
        "  127: <AnalogSignal(array([], dtype=float64) * V, [0.0 s, 0.0 s], sampling rate: 1000.0 Hz)>]}"
       ]
      }
     ],
     "prompt_number": 10
    },
    {
     "cell_type": "code",
     "collapsed": false,
     "input": [
      "m = block.segments[0].analogsignals[0]"
     ],
     "language": "python",
     "metadata": {},
     "outputs": [],
     "prompt_number": 4
    },
    {
     "cell_type": "code",
     "collapsed": false,
     "input": [
      "seg = block.segments[0]\n",
      "seg.annotations"
     ],
     "language": "python",
     "metadata": {},
     "outputs": [
      {
       "output_type": "pyout",
       "prompt_number": 5,
       "text": [
        "{'plexon_version': 106}"
       ]
      }
     ],
     "prompt_number": 5
    },
    {
     "cell_type": "code",
     "collapsed": false,
     "input": [
      "import matplotlib.pyplot as plt"
     ],
     "language": "python",
     "metadata": {},
     "outputs": [
      {
       "ename": "ImportError",
       "evalue": "dlopen(/Users/barry/development/.virtualenvs/ovation/lib/python2.7/site-packages/matplotlib/_png.so, 2): Symbol not found: _png_create_info_struct\n  Referenced from: /Users/barry/development/.virtualenvs/ovation/lib/python2.7/site-packages/matplotlib/_png.so\n  Expected in: flat namespace\n in /Users/barry/development/.virtualenvs/ovation/lib/python2.7/site-packages/matplotlib/_png.so",
       "output_type": "pyerr",
       "traceback": [
        "\u001b[0;31m---------------------------------------------------------------------------\u001b[0m\n\u001b[0;31mImportError\u001b[0m                               Traceback (most recent call last)",
        "\u001b[0;32m<ipython-input-6-eff513f636fd>\u001b[0m in \u001b[0;36m<module>\u001b[0;34m()\u001b[0m\n\u001b[0;32m----> 1\u001b[0;31m \u001b[0;32mimport\u001b[0m \u001b[0mmatplotlib\u001b[0m\u001b[0;34m.\u001b[0m\u001b[0mpyplot\u001b[0m \u001b[0;32mas\u001b[0m \u001b[0mplt\u001b[0m\u001b[0;34m\u001b[0m\u001b[0m\n\u001b[0m",
        "\u001b[0;32m/Users/barry/development/.virtualenvs/ovation/lib/python2.7/site-packages/matplotlib/pyplot.py\u001b[0m in \u001b[0;36m<module>\u001b[0;34m()\u001b[0m\n\u001b[1;32m     24\u001b[0m \u001b[0;32mfrom\u001b[0m \u001b[0mmatplotlib\u001b[0m\u001b[0;34m.\u001b[0m\u001b[0mcbook\u001b[0m \u001b[0;32mimport\u001b[0m \u001b[0mdedent\u001b[0m\u001b[0;34m,\u001b[0m \u001b[0msilent_list\u001b[0m\u001b[0;34m,\u001b[0m \u001b[0mis_string_like\u001b[0m\u001b[0;34m,\u001b[0m \u001b[0mis_numlike\u001b[0m\u001b[0;34m\u001b[0m\u001b[0m\n\u001b[1;32m     25\u001b[0m \u001b[0;32mfrom\u001b[0m \u001b[0mmatplotlib\u001b[0m \u001b[0;32mimport\u001b[0m \u001b[0mdocstring\u001b[0m\u001b[0;34m\u001b[0m\u001b[0m\n\u001b[0;32m---> 26\u001b[0;31m \u001b[0;32mfrom\u001b[0m \u001b[0mmatplotlib\u001b[0m\u001b[0;34m.\u001b[0m\u001b[0mfigure\u001b[0m \u001b[0;32mimport\u001b[0m \u001b[0mFigure\u001b[0m\u001b[0;34m,\u001b[0m \u001b[0mfigaspect\u001b[0m\u001b[0;34m\u001b[0m\u001b[0m\n\u001b[0m\u001b[1;32m     27\u001b[0m \u001b[0;32mfrom\u001b[0m \u001b[0mmatplotlib\u001b[0m\u001b[0;34m.\u001b[0m\u001b[0mbackend_bases\u001b[0m \u001b[0;32mimport\u001b[0m \u001b[0mFigureCanvasBase\u001b[0m\u001b[0;34m\u001b[0m\u001b[0m\n\u001b[1;32m     28\u001b[0m \u001b[0;32mfrom\u001b[0m \u001b[0mmatplotlib\u001b[0m\u001b[0;34m.\u001b[0m\u001b[0mimage\u001b[0m \u001b[0;32mimport\u001b[0m \u001b[0mimread\u001b[0m \u001b[0;32mas\u001b[0m \u001b[0m_imread\u001b[0m\u001b[0;34m\u001b[0m\u001b[0m\n",
        "\u001b[0;32m/Users/barry/development/.virtualenvs/ovation/lib/python2.7/site-packages/matplotlib/figure.py\u001b[0m in \u001b[0;36m<module>\u001b[0;34m()\u001b[0m\n\u001b[1;32m     30\u001b[0m \u001b[0;34m\u001b[0m\u001b[0m\n\u001b[1;32m     31\u001b[0m \u001b[0;32mfrom\u001b[0m \u001b[0mmatplotlib\u001b[0m \u001b[0;32mimport\u001b[0m \u001b[0m_image\u001b[0m\u001b[0;34m\u001b[0m\u001b[0m\n\u001b[0;32m---> 32\u001b[0;31m \u001b[0;32mfrom\u001b[0m \u001b[0mmatplotlib\u001b[0m\u001b[0;34m.\u001b[0m\u001b[0mimage\u001b[0m \u001b[0;32mimport\u001b[0m \u001b[0mFigureImage\u001b[0m\u001b[0;34m\u001b[0m\u001b[0m\n\u001b[0m\u001b[1;32m     33\u001b[0m \u001b[0;34m\u001b[0m\u001b[0m\n\u001b[1;32m     34\u001b[0m \u001b[0;32mimport\u001b[0m \u001b[0mmatplotlib\u001b[0m\u001b[0;34m.\u001b[0m\u001b[0mcolorbar\u001b[0m \u001b[0;32mas\u001b[0m \u001b[0mcbar\u001b[0m\u001b[0;34m\u001b[0m\u001b[0m\n",
        "\u001b[0;32m/Users/barry/development/.virtualenvs/ovation/lib/python2.7/site-packages/matplotlib/image.py\u001b[0m in \u001b[0;36m<module>\u001b[0;34m()\u001b[0m\n\u001b[1;32m     20\u001b[0m \u001b[0;31m# For clarity, names from _image are given explicitly in this module:\u001b[0m\u001b[0;34m\u001b[0m\u001b[0;34m\u001b[0m\u001b[0m\n\u001b[1;32m     21\u001b[0m \u001b[0;32mimport\u001b[0m \u001b[0mmatplotlib\u001b[0m\u001b[0;34m.\u001b[0m\u001b[0m_image\u001b[0m \u001b[0;32mas\u001b[0m \u001b[0m_image\u001b[0m\u001b[0;34m\u001b[0m\u001b[0m\n\u001b[0;32m---> 22\u001b[0;31m \u001b[0;32mimport\u001b[0m \u001b[0mmatplotlib\u001b[0m\u001b[0;34m.\u001b[0m\u001b[0m_png\u001b[0m \u001b[0;32mas\u001b[0m \u001b[0m_png\u001b[0m\u001b[0;34m\u001b[0m\u001b[0m\n\u001b[0m\u001b[1;32m     23\u001b[0m \u001b[0;34m\u001b[0m\u001b[0m\n\u001b[1;32m     24\u001b[0m \u001b[0;31m# For user convenience, the names from _image are also imported into\u001b[0m\u001b[0;34m\u001b[0m\u001b[0;34m\u001b[0m\u001b[0m\n",
        "\u001b[0;31mImportError\u001b[0m: dlopen(/Users/barry/development/.virtualenvs/ovation/lib/python2.7/site-packages/matplotlib/_png.so, 2): Symbol not found: _png_create_info_struct\n  Referenced from: /Users/barry/development/.virtualenvs/ovation/lib/python2.7/site-packages/matplotlib/_png.so\n  Expected in: flat namespace\n in /Users/barry/development/.virtualenvs/ovation/lib/python2.7/site-packages/matplotlib/_png.so"
       ]
      }
     ],
     "prompt_number": 6
    },
    {
     "cell_type": "code",
     "collapsed": false,
     "input": [
      "nio.PlexonIO.supported_objects"
     ],
     "language": "python",
     "metadata": {},
     "outputs": [
      {
       "output_type": "pyout",
       "prompt_number": 7,
       "text": [
        "[neo.core.segment.Segment,\n",
        " neo.core.analogsignal.AnalogSignal,\n",
        " neo.core.spiketrain.SpikeTrain,\n",
        " neo.core.eventarray.EventArray,\n",
        " neo.core.epocharray.EpochArray]"
       ]
      }
     ],
     "prompt_number": 7
    },
    {
     "cell_type": "code",
     "collapsed": false,
     "input": [
      "nio.AxonIO.supported_objects"
     ],
     "language": "python",
     "metadata": {},
     "outputs": [
      {
       "output_type": "pyout",
       "prompt_number": 8,
       "text": [
        "[neo.core.block.Block,\n",
        " neo.core.segment.Segment,\n",
        " neo.core.analogsignal.AnalogSignal,\n",
        " neo.core.eventarray.EventArray]"
       ]
      }
     ],
     "prompt_number": 8
    },
    {
     "cell_type": "code",
     "collapsed": false,
     "input": [
      "\n",
      "for k in [key for key in nio.__dict__.keys() if key.endswith('IO')]:\n",
      "    supported_objs = nio.__dict__[k].supported_objects\n",
      "    if(neo.core.recordingchannel.RecordingChannel in supported_objs):\n",
      "        print(\"{}: {}\".format(k, supported_objs))"
     ],
     "language": "python",
     "metadata": {},
     "outputs": [
      {
       "output_type": "stream",
       "stream": "stdout",
       "text": [
        "ElphyIO: [<class 'neo.core.block.Block'>, <class 'neo.core.segment.Segment'>, <class 'neo.core.recordingchannelgroup.RecordingChannelGroup'>, <class 'neo.core.recordingchannel.RecordingChannel'>, <class 'neo.core.analogsignal.AnalogSignal'>, <class 'neo.core.eventarray.EventArray'>, <class 'neo.core.spiketrain.SpikeTrain'>]\n",
        "BlackrockIO: [<class 'neo.core.block.Block'>, <class 'neo.core.segment.Segment'>, <class 'neo.core.analogsignal.AnalogSignal'>, <class 'neo.core.recordingchannelgroup.RecordingChannelGroup'>, <class 'neo.core.recordingchannel.RecordingChannel'>]\n"
       ]
      }
     ],
     "prompt_number": 28
    },
    {
     "cell_type": "code",
     "collapsed": false,
     "input": [
      "axon_reader = nio.AxonIO(filename=\"fixtures/example1.abf\")"
     ],
     "language": "python",
     "metadata": {},
     "outputs": [],
     "prompt_number": 30
    },
    {
     "cell_type": "code",
     "collapsed": false,
     "input": [
      "block = axon_reader.read()"
     ],
     "language": "python",
     "metadata": {},
     "outputs": [],
     "prompt_number": 31
    },
    {
     "cell_type": "code",
     "collapsed": false,
     "input": [
      "block.segments"
     ],
     "language": "python",
     "metadata": {},
     "outputs": [
      {
       "output_type": "pyout",
       "prompt_number": 32,
       "text": [
        "[Segment with 4 analogs\n",
        " # Analog signals (N=4)\n",
        " 0: <AnalogSignal(array([ -966.1864624 ,  -812.37786865,  -680.54199219, ..., -2981.56738281,\n",
        "       -2875.9765625 , -2718.50585938], dtype=float32) * pA, [0.0 s, 26.0096 s], sampling rate: 10000.0 Hz)>\n",
        " 1: <AnalogSignal(array([ -38.84887695,  -31.37207031,  -31.76879883, ..., -159.54589844,\n",
        "       -148.86474609, -144.01245117], dtype=float32) * mV, [0.0 s, 26.0096 s], sampling rate: 10000.0 Hz)>\n",
        " 2: <AnalogSignal(array([ 0.        ,  0.        ,  0.        , ..., -1.22070301,\n",
        "        0.        ,  0.6103515 ], dtype=float32) * pA, [0.0 s, 26.0096 s], sampling rate: 10000.0 Hz)>\n",
        " 3: <AnalogSignal(array([ 4960.63183594,  4960.93701172,  4961.2421875 , ...,    39.36767197,\n",
        "          39.36767197,    39.67284775], dtype=float32) * mV, [0.0 s, 26.0096 s], sampling rate: 10000.0 Hz)>]"
       ]
      }
     ],
     "prompt_number": 32
    },
    {
     "cell_type": "code",
     "collapsed": false,
     "input": [
      "s = block.segments[0]\n",
      "len(block.segments)"
     ],
     "language": "python",
     "metadata": {},
     "outputs": [
      {
       "output_type": "pyout",
       "prompt_number": 33,
       "text": [
        "1"
       ]
      }
     ],
     "prompt_number": 33
    },
    {
     "cell_type": "code",
     "collapsed": false,
     "input": [
      "s.analogsignals"
     ],
     "language": "python",
     "metadata": {},
     "outputs": [
      {
       "output_type": "pyout",
       "prompt_number": 15,
       "text": [
        "[<AnalogSignal(array([ -966.1864624 ,  -812.37786865,  -680.54199219, ..., -2981.56738281,\n",
        "       -2875.9765625 , -2718.50585938], dtype=float32) * pA, [0.0 s, 26.0096 s], sampling rate: 10000.0 Hz)>,\n",
        " <AnalogSignal(array([ -38.84887695,  -31.37207031,  -31.76879883, ..., -159.54589844,\n",
        "       -148.86474609, -144.01245117], dtype=float32) * mV, [0.0 s, 26.0096 s], sampling rate: 10000.0 Hz)>,\n",
        " <AnalogSignal(array([ 0.        ,  0.        ,  0.        , ..., -1.22070301,\n",
        "        0.        ,  0.6103515 ], dtype=float32) * pA, [0.0 s, 26.0096 s], sampling rate: 10000.0 Hz)>,\n",
        " <AnalogSignal(array([ 4960.63183594,  4960.93701172,  4961.2421875 , ...,    39.36767197,\n",
        "          39.36767197,    39.67284775], dtype=float32) * mV, [0.0 s, 26.0096 s], sampling rate: 10000.0 Hz)>]"
       ]
      }
     ],
     "prompt_number": 15
    },
    {
     "cell_type": "code",
     "collapsed": false,
     "input": [
      "m = s.analogsignals[0]"
     ],
     "language": "python",
     "metadata": {},
     "outputs": [],
     "prompt_number": 16
    },
    {
     "cell_type": "code",
     "collapsed": false,
     "input": [
      "m.annotations"
     ],
     "language": "python",
     "metadata": {},
     "outputs": [
      {
       "output_type": "pyout",
       "prompt_number": 19,
       "text": [
        "{'channel_index': 0}"
       ]
      }
     ],
     "prompt_number": 19
    },
    {
     "cell_type": "code",
     "collapsed": false,
     "input": [
      "for m in s.analogsignals:\n",
      "    print m.annotations"
     ],
     "language": "python",
     "metadata": {},
     "outputs": [
      {
       "output_type": "stream",
       "stream": "stdout",
       "text": [
        "{'channel_index': 0}\n",
        "{'channel_index': 1}\n",
        "{'channel_index': 2}\n",
        "{'channel_index': 3}\n"
       ]
      }
     ],
     "prompt_number": 21
    },
    {
     "cell_type": "code",
     "collapsed": false,
     "input": [
      "m.units"
     ],
     "language": "python",
     "metadata": {},
     "outputs": [
      {
       "output_type": "pyout",
       "prompt_number": 23,
       "text": [
        "array(1.0) * mV"
       ]
      }
     ],
     "prompt_number": 23
    },
    {
     "cell_type": "code",
     "collapsed": false,
     "input": [
      "m.sampling_period"
     ],
     "language": "python",
     "metadata": {},
     "outputs": [
      {
       "output_type": "pyout",
       "prompt_number": 25,
       "text": [
        "array(0.0001) * 1/Hz"
       ]
      }
     ],
     "prompt_number": 25
    },
    {
     "cell_type": "code",
     "collapsed": false,
     "input": [
      "m.sampling_rate"
     ],
     "language": "python",
     "metadata": {},
     "outputs": [
      {
       "output_type": "pyout",
       "prompt_number": 26,
       "text": [
        "array(10000.0) * Hz"
       ]
      }
     ],
     "prompt_number": 26
    },
    {
     "cell_type": "code",
     "collapsed": false,
     "input": [
      "from  ovation import *\n",
      "from ovation.core import *\n",
      "from ovation.connection import connect"
     ],
     "language": "python",
     "metadata": {},
     "outputs": [],
     "prompt_number": 1
    },
    {
     "cell_type": "code",
     "collapsed": false,
     "input": [
      "initVM()"
     ],
     "language": "python",
     "metadata": {},
     "outputs": [
      {
       "output_type": "pyout",
       "prompt_number": 2,
       "text": [
        "<jcc.JCCEnv at 0x10dd2e630>"
       ]
      }
     ],
     "prompt_number": 2
    },
    {
     "cell_type": "code",
     "collapsed": false,
     "input": [
      "dsc = connect('barry@physion.us')"
     ],
     "language": "python",
     "metadata": {},
     "outputs": [],
     "prompt_number": 3
    },
    {
     "cell_type": "code",
     "collapsed": false,
     "input": [
      "ctx = dsc.getContext()"
     ],
     "language": "python",
     "metadata": {},
     "outputs": [],
     "prompt_number": 4
    },
    {
     "cell_type": "code",
     "collapsed": false,
     "input": [
      "[p.getName() for p in ctx.getProjects()]"
     ],
     "language": "python",
     "metadata": {},
     "outputs": [
      {
       "output_type": "pyout",
       "prompt_number": 5,
       "text": [
        "[u'A project',\n",
        " u'UI Project',\n",
        " u'Inouye Phenology 1973-',\n",
        " u'A project',\n",
        " u'A project',\n",
        " u'A project',\n",
        " u'A project',\n",
        " u'Inouye Phenology 1973-',\n",
        " u'Cepko Demo',\n",
        " u'Python testing']"
       ]
      }
     ],
     "prompt_number": 5
    },
    {
     "cell_type": "code",
     "collapsed": false,
     "input": [
      "p = ctx.getProject(u'Python testing')"
     ],
     "language": "python",
     "metadata": {},
     "outputs": [
      {
       "ename": "AttributeError",
       "evalue": "'DataContext' object has no attribute 'getProject'",
       "output_type": "pyerr",
       "traceback": [
        "\u001b[0;31m---------------------------------------------------------------------------\u001b[0m\n\u001b[0;31mAttributeError\u001b[0m                            Traceback (most recent call last)",
        "\u001b[0;32m<ipython-input-6-7b18046d2fa2>\u001b[0m in \u001b[0;36m<module>\u001b[0;34m()\u001b[0m\n\u001b[0;32m----> 1\u001b[0;31m \u001b[0mp\u001b[0m \u001b[0;34m=\u001b[0m \u001b[0mctx\u001b[0m\u001b[0;34m.\u001b[0m\u001b[0mgetProject\u001b[0m\u001b[0;34m(\u001b[0m\u001b[0;34mu'Python testing'\u001b[0m\u001b[0;34m)\u001b[0m\u001b[0;34m\u001b[0m\u001b[0m\n\u001b[0m",
        "\u001b[0;31mAttributeError\u001b[0m: 'DataContext' object has no attribute 'getProject'"
       ]
      }
     ],
     "prompt_number": 6
    },
    {
     "cell_type": "code",
     "collapsed": false,
     "input": [
      "p = list(ctx.getProjects())[-1]"
     ],
     "language": "python",
     "metadata": {},
     "outputs": [],
     "prompt_number": 8
    },
    {
     "cell_type": "code",
     "collapsed": false,
     "input": [
      "exp = list(p.getExperiments())[-1]"
     ],
     "language": "python",
     "metadata": {},
     "outputs": [],
     "prompt_number": 9
    },
    {
     "cell_type": "code",
     "collapsed": false,
     "input": [
      "exp.getUuid()"
     ],
     "language": "python",
     "metadata": {},
     "outputs": [
      {
       "output_type": "pyout",
       "prompt_number": 10,
       "text": [
        "<UUID: 2f5f2821-ae3c-4e64-8437-56e0bbce4960>"
       ]
      }
     ],
     "prompt_number": 10
    },
    {
     "cell_type": "code",
     "collapsed": false,
     "input": [
      "s = list(ctx.getTopLevelSources())[-1]"
     ],
     "language": "python",
     "metadata": {},
     "outputs": [],
     "prompt_number": 11
    },
    {
     "cell_type": "code",
     "collapsed": false,
     "input": [
      "s.getUuid()"
     ],
     "language": "python",
     "metadata": {},
     "outputs": [
      {
       "output_type": "pyout",
       "prompt_number": 12,
       "text": [
        "<UUID: f9b7725a-9b99-48b9-8d73-87d98d41a944>"
       ]
      }
     ],
     "prompt_number": 12
    },
    {
     "cell_type": "code",
     "collapsed": false,
     "input": [
      "[p.getName() for p in ctx.getProtocols()]"
     ],
     "language": "python",
     "metadata": {},
     "outputs": [
      {
       "output_type": "pyout",
       "prompt_number": 14,
       "text": [
        "[u'Retina protocol',\n",
        " u'protocol-1',\n",
        " u'protocol-1',\n",
        " u'Demo Protocol',\n",
        " u'protocol-1',\n",
        " u'protocol-1',\n",
        " u'RMBL Phenology Protocol',\n",
        " u'protocol-1',\n",
        " u'UI protocol']"
       ]
      }
     ],
     "prompt_number": 14
    },
    {
     "cell_type": "code",
     "collapsed": false,
     "input": [
      "p = ctx.getProtocol(u'UI protocol')"
     ],
     "language": "python",
     "metadata": {},
     "outputs": [],
     "prompt_number": 16
    },
    {
     "cell_type": "code",
     "collapsed": false,
     "input": [
      "p.getUuid()"
     ],
     "language": "python",
     "metadata": {},
     "outputs": [
      {
       "output_type": "pyout",
       "prompt_number": 17,
       "text": [
        "<UUID: ee3d5342-bc57-4909-82ce-b03bf827fe29>"
       ]
      }
     ],
     "prompt_number": 17
    },
    {
     "cell_type": "code",
     "collapsed": false,
     "input": [
      "list(exp.getEpochs())"
     ],
     "language": "python",
     "metadata": {},
     "outputs": [
      {
       "output_type": "pyout",
       "prompt_number": 18,
       "text": [
        "[]"
       ]
      }
     ],
     "prompt_number": 18
    },
    {
     "cell_type": "code",
     "collapsed": false,
     "input": [
      "eg = list(EpochGroupContainer.cast_(exp).getEpochGroups())[3]"
     ],
     "language": "python",
     "metadata": {},
     "outputs": [],
     "prompt_number": 26
    },
    {
     "cell_type": "code",
     "collapsed": false,
     "input": [
      "eg.getLabel()"
     ],
     "language": "python",
     "metadata": {},
     "outputs": [
      {
       "output_type": "pyout",
       "prompt_number": 27,
       "text": [
        "u'Neo importer'"
       ]
      }
     ],
     "prompt_number": 27
    },
    {
     "cell_type": "code",
     "collapsed": false,
     "input": [
      "epoch = list(eg.getEpochs())[0]"
     ],
     "language": "python",
     "metadata": {},
     "outputs": [],
     "prompt_number": 34
    },
    {
     "cell_type": "code",
     "collapsed": false,
     "input": [
      "epoch.getMeasurements()"
     ],
     "language": "python",
     "metadata": {},
     "outputs": [
      {
       "output_type": "pyout",
       "prompt_number": 35,
       "text": [
        "<Iterable: [us.physion.ovation.domain.impl.Measurement@23b02f5e, us.physion.ovation.domain.impl.Measurement@990911ee, us.physion.ovation.domain.impl.Measurement@224e46d3, us.physion.ovation.domain.impl.Measurement@3f3db6f1]>"
       ]
      }
     ],
     "prompt_number": 35
    },
    {
     "cell_type": "code",
     "collapsed": false,
     "input": [
      "from ovation.data import *\n",
      "import pandas as pd"
     ],
     "language": "python",
     "metadata": {},
     "outputs": [],
     "prompt_number": 37
    },
    {
     "cell_type": "code",
     "collapsed": false,
     "input": [
      "m = list(epoch.getMeasurements())[0]"
     ],
     "language": "python",
     "metadata": {},
     "outputs": [],
     "prompt_number": 40
    },
    {
     "cell_type": "code",
     "collapsed": false,
     "input": [
      "m.refresh()"
     ],
     "language": "python",
     "metadata": {},
     "outputs": [
      {
       "output_type": "pyout",
       "prompt_number": 41,
       "text": [
        "<OvationEntity: us.physion.ovation.domain.impl.Measurement@23b02f5e>"
       ]
      }
     ],
     "prompt_number": 41
    },
    {
     "cell_type": "code",
     "collapsed": false,
     "input": [
      "df = as_data_frame(list(epoch.getMeasurements())[0])"
     ],
     "language": "python",
     "metadata": {},
     "outputs": [
      {
       "ename": "JavaError",
       "evalue": "java.util.concurrent.ExecutionException: us.physion.ovation.exceptions.OvationException: Error reading NetCDF data file.\n    Java stacktrace:\njava.util.concurrent.ExecutionException: us.physion.ovation.exceptions.OvationException: Error reading NetCDF data file.\n\tat com.google.common.util.concurrent.AbstractFuture$Sync.getValue(AbstractFuture.java:294)\n\tat com.google.common.util.concurrent.AbstractFuture$Sync.get(AbstractFuture.java:281)\n\tat com.google.common.util.concurrent.AbstractFuture.get(AbstractFuture.java:116)\nCaused by: us.physion.ovation.exceptions.OvationException: Error reading NetCDF data file.\n\tat us.physion.ovation.domain.NumericDataElements$1.apply(NumericDataElements.java:140)\n\tat us.physion.ovation.domain.NumericDataElements$1.apply(NumericDataElements.java:68)\n\tat com.google.common.util.concurrent.Futures$3.apply(Futures.java:376)\n\tat com.google.common.util.concurrent.Futures$ChainingListenableFuture.run(Futures.java:518)\n\tat com.google.common.util.concurrent.MoreExecutors$SameThreadExecutorService.execute(MoreExecutors.java:262)\n\tat com.google.common.util.concurrent.ExecutionList$RunnableExecutorPair.execute(ExecutionList.java:149)\n\tat com.google.common.util.concurrent.ExecutionList.add(ExecutionList.java:105)\n\tat com.google.common.util.concurrent.AbstractFuture.addListener(AbstractFuture.java:160)\n\tat com.google.common.util.concurrent.Futures.transform(Futures.java:269)\n\tat com.google.common.util.concurrent.Futures.transform(Futures.java:380)\n\tat com.google.common.util.concurrent.Futures.transform(Futures.java:329)\n\tat us.physion.ovation.domain.NumericDataElements.getNumericData(NumericDataElements.java:66)\n\tat us.physion.ovation.domain.NumericDataElements.getNumericData(NumericDataElements.java:53)\nCaused by: java.io.FileNotFoundException: /Users/barry/Library/Application Support/us.physion.ovation/cache/pending/d4ceca40-83cb-0130-3b75-22000aab13b3/acd22f5a-8578-4647-9b31-0941193dbf22/09065d61-80cb-446a-be39-70c2144446f6/IN 2ywvE_G.nc (No such file or directory)\n\tat java.io.RandomAccessFile.open(Native Method)\n\tat java.io.RandomAccessFile.<init>(RandomAccessFile.java:216)\n\tat java.io.RandomAccessFile.<init>(RandomAccessFile.java:101)\n\tat ucar.unidata.io.RandomAccessFile.<init>(RandomAccessFile.java:277)\n\tat ucar.nc2.NetcdfFile.getRaf(NetcdfFile.java:528)\n\tat ucar.nc2.NetcdfFile.open(NetcdfFile.java:392)\n\tat ucar.nc2.NetcdfFile.open(NetcdfFile.java:365)\n\tat ucar.nc2.NetcdfFile.open(NetcdfFile.java:352)\n\tat ucar.nc2.NetcdfFile.open(NetcdfFile.java:340)\n\tat us.physion.ovation.domain.NumericDataElements$1.apply(NumericDataElements.java:80)\n\t... 12 more\n",
       "output_type": "pyerr",
       "traceback": [
        "\u001b[0;31m---------------------------------------------------------------------------\u001b[0m\n\u001b[0;31mJavaError\u001b[0m                                 Traceback (most recent call last)",
        "\u001b[0;32m<ipython-input-42-4000f298f681>\u001b[0m in \u001b[0;36m<module>\u001b[0;34m()\u001b[0m\n\u001b[0;32m----> 1\u001b[0;31m \u001b[0mdf\u001b[0m \u001b[0;34m=\u001b[0m \u001b[0mas_data_frame\u001b[0m\u001b[0;34m(\u001b[0m\u001b[0mlist\u001b[0m\u001b[0;34m(\u001b[0m\u001b[0mepoch\u001b[0m\u001b[0;34m.\u001b[0m\u001b[0mgetMeasurements\u001b[0m\u001b[0;34m(\u001b[0m\u001b[0;34m)\u001b[0m\u001b[0;34m)\u001b[0m\u001b[0;34m[\u001b[0m\u001b[0;36m0\u001b[0m\u001b[0;34m]\u001b[0m\u001b[0;34m)\u001b[0m\u001b[0;34m\u001b[0m\u001b[0m\n\u001b[0m",
        "\u001b[0;32m/Users/barry/development/.virtualenvs/ovation/lib/python2.7/site-packages/ovation/data.pyc\u001b[0m in \u001b[0;36mas_data_frame\u001b[0;34m(numeric_data_element)\u001b[0m\n\u001b[1;32m     35\u001b[0m \u001b[0;34m\u001b[0m\u001b[0m\n\u001b[1;32m     36\u001b[0m     \u001b[0mdata_path\u001b[0m \u001b[0;34m=\u001b[0m \u001b[0mDataElement\u001b[0m\u001b[0;34m.\u001b[0m\u001b[0mcast_\u001b[0m\u001b[0;34m(\u001b[0m\u001b[0mnumeric_data_element\u001b[0m\u001b[0;34m)\u001b[0m\u001b[0;34m.\u001b[0m\u001b[0mgetLocalDataPath\u001b[0m\u001b[0;34m(\u001b[0m\u001b[0;34m)\u001b[0m\u001b[0;34m.\u001b[0m\u001b[0mget\u001b[0m\u001b[0;34m(\u001b[0m\u001b[0;34m)\u001b[0m\u001b[0;34m\u001b[0m\u001b[0m\n\u001b[0;32m---> 37\u001b[0;31m     \u001b[0mnumeric_data\u001b[0m \u001b[0;34m=\u001b[0m \u001b[0mNumericDataElements\u001b[0m\u001b[0;34m.\u001b[0m\u001b[0mgetNumericData\u001b[0m\u001b[0;34m(\u001b[0m\u001b[0mnumeric_data_element\u001b[0m\u001b[0;34m)\u001b[0m\u001b[0;34m.\u001b[0m\u001b[0mget\u001b[0m\u001b[0;34m(\u001b[0m\u001b[0;34m)\u001b[0m\u001b[0;34m\u001b[0m\u001b[0m\n\u001b[0m\u001b[1;32m     38\u001b[0m \u001b[0;34m\u001b[0m\u001b[0m\n\u001b[1;32m     39\u001b[0m     \u001b[0;32mwith\u001b[0m \u001b[0m_netcdf_file_context\u001b[0m\u001b[0;34m(\u001b[0m\u001b[0mdata_path\u001b[0m\u001b[0;34m,\u001b[0m \u001b[0;34m'r'\u001b[0m\u001b[0;34m)\u001b[0m \u001b[0;32mas\u001b[0m \u001b[0mncf\u001b[0m\u001b[0;34m:\u001b[0m\u001b[0;34m\u001b[0m\u001b[0m\n",
        "\u001b[0;31mJavaError\u001b[0m: java.util.concurrent.ExecutionException: us.physion.ovation.exceptions.OvationException: Error reading NetCDF data file.\n    Java stacktrace:\njava.util.concurrent.ExecutionException: us.physion.ovation.exceptions.OvationException: Error reading NetCDF data file.\n\tat com.google.common.util.concurrent.AbstractFuture$Sync.getValue(AbstractFuture.java:294)\n\tat com.google.common.util.concurrent.AbstractFuture$Sync.get(AbstractFuture.java:281)\n\tat com.google.common.util.concurrent.AbstractFuture.get(AbstractFuture.java:116)\nCaused by: us.physion.ovation.exceptions.OvationException: Error reading NetCDF data file.\n\tat us.physion.ovation.domain.NumericDataElements$1.apply(NumericDataElements.java:140)\n\tat us.physion.ovation.domain.NumericDataElements$1.apply(NumericDataElements.java:68)\n\tat com.google.common.util.concurrent.Futures$3.apply(Futures.java:376)\n\tat com.google.common.util.concurrent.Futures$ChainingListenableFuture.run(Futures.java:518)\n\tat com.google.common.util.concurrent.MoreExecutors$SameThreadExecutorService.execute(MoreExecutors.java:262)\n\tat com.google.common.util.concurrent.ExecutionList$RunnableExecutorPair.execute(ExecutionList.java:149)\n\tat com.google.common.util.concurrent.ExecutionList.add(ExecutionList.java:105)\n\tat com.google.common.util.concurrent.AbstractFuture.addListener(AbstractFuture.java:160)\n\tat com.google.common.util.concurrent.Futures.transform(Futures.java:269)\n\tat com.google.common.util.concurrent.Futures.transform(Futures.java:380)\n\tat com.google.common.util.concurrent.Futures.transform(Futures.java:329)\n\tat us.physion.ovation.domain.NumericDataElements.getNumericData(NumericDataElements.java:66)\n\tat us.physion.ovation.domain.NumericDataElements.getNumericData(NumericDataElements.java:53)\nCaused by: java.io.FileNotFoundException: /Users/barry/Library/Application Support/us.physion.ovation/cache/pending/d4ceca40-83cb-0130-3b75-22000aab13b3/acd22f5a-8578-4647-9b31-0941193dbf22/09065d61-80cb-446a-be39-70c2144446f6/IN 2ywvE_G.nc (No such file or directory)\n\tat java.io.RandomAccessFile.open(Native Method)\n\tat java.io.RandomAccessFile.<init>(RandomAccessFile.java:216)\n\tat java.io.RandomAccessFile.<init>(RandomAccessFile.java:101)\n\tat ucar.unidata.io.RandomAccessFile.<init>(RandomAccessFile.java:277)\n\tat ucar.nc2.NetcdfFile.getRaf(NetcdfFile.java:528)\n\tat ucar.nc2.NetcdfFile.open(NetcdfFile.java:392)\n\tat ucar.nc2.NetcdfFile.open(NetcdfFile.java:365)\n\tat ucar.nc2.NetcdfFile.open(NetcdfFile.java:352)\n\tat ucar.nc2.NetcdfFile.open(NetcdfFile.java:340)\n\tat us.physion.ovation.domain.NumericDataElements$1.apply(NumericDataElements.java:80)\n\t... 12 more\n"
       ]
      }
     ],
     "prompt_number": 42
    },
    {
     "cell_type": "code",
     "collapsed": false,
     "input": [
      "import os.path"
     ],
     "language": "python",
     "metadata": {},
     "outputs": [],
     "prompt_number": 11
    },
    {
     "cell_type": "code",
     "collapsed": false,
     "input": [
      "os.path.getmtime('fixtures/example1.plx')"
     ],
     "language": "python",
     "metadata": {},
     "outputs": [
      {
       "output_type": "pyout",
       "prompt_number": 12,
       "text": [
        "1333383504.0"
       ]
      }
     ],
     "prompt_number": 12
    },
    {
     "cell_type": "code",
     "collapsed": false,
     "input": [
      "os.path.getmtime?"
     ],
     "language": "python",
     "metadata": {},
     "outputs": [],
     "prompt_number": 13
    },
    {
     "cell_type": "code",
     "collapsed": false,
     "input": [
      "import datetime"
     ],
     "language": "python",
     "metadata": {},
     "outputs": [],
     "prompt_number": 14
    },
    {
     "cell_type": "code",
     "collapsed": false,
     "input": [
      "d = datetime.datetime.fromtimestamp(os.path.getmtime('fixtures/example1.plx'))"
     ],
     "language": "python",
     "metadata": {},
     "outputs": [],
     "prompt_number": 21
    },
    {
     "cell_type": "code",
     "collapsed": false,
     "input": [
      "d.timetuple()[:7]"
     ],
     "language": "python",
     "metadata": {},
     "outputs": [
      {
       "output_type": "pyout",
       "prompt_number": 22,
       "text": [
        "(2012, 4, 2, 12, 18, 24, 0)"
       ]
      }
     ],
     "prompt_number": 22
    },
    {
     "cell_type": "code",
     "collapsed": false,
     "input": [
      "d"
     ],
     "language": "python",
     "metadata": {},
     "outputs": [
      {
       "output_type": "pyout",
       "prompt_number": 23,
       "text": [
        "datetime.datetime(2012, 4, 2, 12, 18, 24)"
       ]
      }
     ],
     "prompt_number": 23
    },
    {
     "cell_type": "code",
     "collapsed": false,
     "input": [],
     "language": "python",
     "metadata": {},
     "outputs": []
    }
   ],
   "metadata": {}
  }
 ]
}